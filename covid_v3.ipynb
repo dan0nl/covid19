{
 "cells": [
  {
   "cell_type": "markdown",
   "metadata": {},
   "source": [
    "# Setup"
   ]
  },
  {
   "cell_type": "markdown",
   "metadata": {},
   "source": [
    "## Imports and jupyter environment"
   ]
  },
  {
   "cell_type": "code",
   "execution_count": null,
   "metadata": {
    "ExecuteTime": {
     "end_time": "2020-03-22T15:02:50.797757Z",
     "start_time": "2020-03-22T15:02:49.895987Z"
    },
    "code_folding": [],
    "pycharm": {
     "is_executing": false
    }
   },
   "outputs": [],
   "source": [
    "# Imports and basic environment setup\n",
    "import plotly.offline as py\n",
    "import plotly.express as px\n",
    "from IPython.display import Markdown\n",
    "import ipywidgets as widgets\n",
    "import pandas as pd\n",
    "import numpy as np\n",
    "import pprint\n",
    "import io\n",
    "import qgrid\n",
    "import requests\n",
    "\n",
    "py.init_notebook_mode(connected=False)\n",
    "\n",
    "# Use jupyter qgrid instead of standard table views\n",
    "qgrid.enable(dataframe=True, series=True)\n",
    "qgrid.set_grid_option('forceFitColumns', False)\n",
    "qgrid.set_grid_option('editable', False)\n",
    "qgrid.set_grid_option('minVisibleRows', 3)\n",
    "qgrid.set_grid_option('maxVisibleRows', 15)\n",
    "\n",
    "# Pandas\n",
    "pd.options.display.max_rows = 999\n",
    "pd.options.display.max_columns = 60"
   ]
  },
  {
   "cell_type": "markdown",
   "metadata": {
    "ExecuteTime": {
     "end_time": "2020-03-16T11:56:12.414375Z",
     "start_time": "2020-03-16T11:56:12.412032Z"
    }
   },
   "source": [
    "## Get covid data"
   ]
  },
  {
   "cell_type": "code",
   "execution_count": null,
   "metadata": {
    "ExecuteTime": {
     "end_time": "2020-03-22T15:02:51.408804Z",
     "start_time": "2020-03-22T15:02:50.800066Z"
    },
    "pycharm": {
     "is_executing": false
    },
    "scrolled": true
   },
   "outputs": [],
   "source": [
    "datatemplate = 'https://raw.githubusercontent.com/CSSEGISandData/COVID-19/master/csse_covid_19_data/csse_covid_19_time_series/time_series_19-covid-{}.csv'\n",
    "use_proxy = False\n",
    "\n",
    "def proxy(url):\n",
    "    if use_proxy:\n",
    "        proxy_dict = {'https' : \"https://10.144.1.10:8080\"}\n",
    "        s = requests.get(url, proxies=proxy_dict).text\n",
    "        return(io.StringIO(s))\n",
    "    else:\n",
    "        return(url)\n",
    "    \n",
    "\n",
    "def get_n_melt_data(data_url, case_type):\n",
    "    '''\n",
    "        thanks to: \n",
    "        https://medium.com/@jcharistech/data-cleaning-a-practical-example-with-coronavirus-dataset-using-pandas-and-schedule-for-14abf485c881\n",
    "    '''\n",
    "    df = pd.read_csv(proxy(data_url))\n",
    "    df = df.groupby('Country/Region', as_index=False).sum()\n",
    "    melted_df = df.melt(id_vars=['Country/Region', 'Lat', 'Long'])\n",
    "    melted_df.rename(columns={\"variable\":\"Date\",\"value\":case_type, \"Country/Region\": \"Country\"},inplace=True)\n",
    "    return melted_df\n",
    "\n",
    "def merge_data(confirm_df, recovered_df, deaths_df):\n",
    "    new_df = confirm_df.join(recovered_df['Recovered']).join(deaths_df['Deaths'])\n",
    "    return new_df\n",
    "\n",
    "# get the different CSVs; mapped around some columns/rows, and aggregate into a single df\n",
    "df_confirmed = get_n_melt_data(datatemplate.format('Confirmed'),'Confirmed')\n",
    "df_deaths = get_n_melt_data(datatemplate.format('Deaths'),'Deaths') \n",
    "df_recovered = get_n_melt_data(datatemplate.format('Recovered'),'Recovered') \n",
    "\n",
    "# merge the different data-frames into a single aggregated one\n",
    "agg = merge_data(df_confirmed, df_recovered, df_deaths)\n",
    "agg['Date'] = pd.to_datetime(agg['Date'])\n",
    "agg = agg.sort_values(by=['Country', 'Date'])\n",
    "\n",
    "# Dataset has gap on 3/12. Set 3/12 as avg between 3/11 and 3/13; not perfect but ok'ish\n",
    "for case_type in ['Confirmed', 'Deaths', 'Recovered']:\n",
    "    d1 = agg[agg['Date'] == '2020-03-13'][case_type]\n",
    "    d2 = agg[agg['Date'] == '2020-03-11'][case_type]\n",
    "    d_result = d2.values+((d1.values-d2.values)/2)\n",
    "    agg.loc[(agg.Date == '2020-03-12'),case_type]=d_result    "
   ]
  },
  {
   "cell_type": "markdown",
   "metadata": {},
   "source": [
    "## Read population data"
   ]
  },
  {
   "cell_type": "code",
   "execution_count": null,
   "metadata": {
    "ExecuteTime": {
     "end_time": "2020-03-22T15:02:51.444691Z",
     "start_time": "2020-03-22T15:02:51.411252Z"
    },
    "pycharm": {
     "is_executing": false
    }
   },
   "outputs": [],
   "source": [
    "def get_population_data():\n",
    "    # Population from here: https://datahub.io/core/population/r/population.csv\n",
    "    df_population = pd.read_csv('population.csv')\n",
    "    # only use most recent year (=2016)\n",
    "    df_population = df_population.sort_values(by=['Country Name', 'Year']).groupby('Country Name').tail(1)\n",
    "    # we'll be merging this df soon, let's drop what we don't need\n",
    "    df_population = df_population.drop(['Country Code', 'Year'], axis=1)\n",
    "    # rename few columns\n",
    "    df_population.rename(columns={\"Value\" : \"Population\", 'Country Name': 'Country'}, inplace=True)\n",
    "    \n",
    "    # Debug, just to get the exact country name for replace in below\n",
    "    # for i, e in population.iterrows():\n",
    "    #     print(e['Country'])\n",
    "\n",
    "    # remap some country as naming is different between the two datasets (TODO: additional countries)    \n",
    "    df_population['Country'] = df_population['Country'].replace(\n",
    "                                                      {\n",
    "                                                       'United States' : 'US',\n",
    "                                                       'Iran, Islamic Rep.' : 'Iran',\n",
    "                                                       \"Korea, Dem. People’s Rep.\" : 'Korea, South',\n",
    "                                                       'Russian Federation' : 'Russia',\n",
    "                                                       'Egypt, Arab Rep.' : 'Egypt',\n",
    "                                                       'Taiwan' : 'Taiwan*'\n",
    "                                                      })\n",
    "    return(df_population)\n",
    "\n",
    "\n",
    "# get population data\n",
    "population = get_population_data()    \n",
    "agg = agg.merge(population, how='left')"
   ]
  },
  {
   "cell_type": "markdown",
   "metadata": {},
   "source": [
    "## Calculate extra data"
   ]
  },
  {
   "cell_type": "code",
   "execution_count": null,
   "metadata": {
    "ExecuteTime": {
     "end_time": "2020-03-22T15:02:51.630946Z",
     "start_time": "2020-03-22T15:02:51.446800Z"
    },
    "pycharm": {
     "is_executing": false
    }
   },
   "outputs": [],
   "source": [
    "# calculate a number of extra columns (delta, delta_pct, case_type per million etc)\n",
    "for case_type in ['Confirmed', 'Deaths', 'Recovered']:\n",
    "    # Add daily increment per case_type\n",
    "    col_name = case_type+'_Delta'\n",
    "    agg[col_name] = agg.groupby(['Country'])[case_type].diff().fillna(0)\n",
    "    # Add daily percentage increase per case_type\n",
    "    col_name = case_type+'_Pct'\n",
    "    agg[col_name] = agg.groupby(['Country'])[case_type].pct_change(periods=1)*100\n",
    "    agg[col_name] = agg[col_name].round(1)\n",
    "    # Add case_type per million population\n",
    "    col_name = case_type+'_per_million'\n",
    "    agg[col_name] = agg[case_type] / agg['Population'] * 1000000\n",
    "    agg[col_name] = agg[col_name].round(1)\n",
    "\n",
    "# figure out how long ago a country hit 50 infections as baseline when breakout started\n",
    "df = agg[agg['Confirmed'] > 50].groupby('Country').first()\n",
    "# Calculate datetime difference between now and first reported day with Confirmed > threshold\n",
    "df['Days'] = pd.to_datetime(\"now\") - df['Date']\n",
    "# Convert to days\n",
    "df['Days']= df['Days'].apply(lambda x: round(x / np.timedelta64(1,'D'),0))\n",
    "# drop all columns except for index (=country) and 'Days'\n",
    "df = df[['Days']]\n",
    "agg = agg.merge(df['Days'], how='left', left_on='Country', right_index=True, suffixes=(False,False))\n",
    "\n",
    "    \n",
    "# Let's reorder the columns a bit; so that all case_type columns are together\n",
    "agg.sort_index(axis=1, inplace=True)\n",
    "# Sort will put them all together. Move around the other columns a bit\n",
    "cols = agg.columns.tolist()\n",
    "cols.insert(0, cols.pop(cols.index('Days')))\n",
    "cols.insert(0, cols.pop(cols.index('Date')))\n",
    "cols.insert(0, cols.pop(cols.index('Country')))\n",
    "cols.insert(len(cols), cols.pop(cols.index('Population')))\n",
    "cols.insert(len(cols), cols.pop(cols.index('Long')))\n",
    "cols.insert(len(cols), cols.pop(cols.index('Lat')))\n",
    "agg = agg.reindex(columns= cols)"
   ]
  },
  {
   "cell_type": "markdown",
   "metadata": {},
   "source": [
    "## Setup all graphs"
   ]
  },
  {
   "cell_type": "code",
   "execution_count": null,
   "metadata": {
    "ExecuteTime": {
     "end_time": "2020-03-22T15:02:51.674475Z",
     "start_time": "2020-03-22T15:02:51.632819Z"
    },
    "code_folding": [],
    "pycharm": {
     "is_executing": false
    }
   },
   "outputs": [],
   "source": [
    "import plotly.graph_objects as go\n",
    "from datetime import date, timedelta\n",
    "\n",
    "def print_graph(df, c_list, categories, title='', days=14, log=True, trendline=False):\n",
    "    if c_list[0] == 'All':\n",
    "        filtered = df.copy()\n",
    "    else:\n",
    "        filtered = df[df['Country'].isin(c_list)]\n",
    "            \n",
    "    end = date.today()\n",
    "    start = end - timedelta(days=days)\n",
    "    if title == '':\n",
    "        title=categories[0]\n",
    "         \n",
    "    fig = go.Figure()\n",
    "    \n",
    "    if log:\n",
    "        fig.update_layout(yaxis_type=\"log\")\n",
    "        title = title + \" (log)\"\n",
    "            \n",
    "    fig.update_layout(title_text=title, xaxis_range=[start.strftime(\"%Y-%m-%d\"),end.strftime(\"%Y-%m-%d\")])\n",
    "\n",
    "    for country in filtered.Country.unique():\n",
    "        df = filtered.loc[filtered['Country'] == country]\n",
    "        for cat in categories:\n",
    "            if len(categories) > 1:\n",
    "                name=country+\"_\"+cat\n",
    "            else:\n",
    "                name=country\n",
    "            \n",
    "# TODO: Add trendline             \n",
    "#             if trendline:\n",
    "#                 tmpfig = px.scatter(df, x='Date', y=cat, color='Country', trendline=\"ols\")\n",
    "#                 #display(tmpfig)\n",
    "#                 fig.add_trace(tmpfig.data[1], color=country)\n",
    "# #                fig.add_trace(px.scatter_mapbox(stations, lat=“ycoord”, lon=“xcoord”,).data[0])\n",
    "\n",
    "            fig.add_trace(go.Scatter(\n",
    "                            x=df['Date'],\n",
    "                            y=df[cat],\n",
    "                            name=name))\n",
    "    fig.show()\n",
    "\n",
    "\n",
    "def print_graph_from_start(df, c_list, categories, title='', days=14, log=True):\n",
    "    ''' \n",
    "        graphs 'from_start' use Days column, which is the days-passed since a country \n",
    "        passed 50 infection threshold.\n",
    "    '''\n",
    "    if c_list[0] == 'All':\n",
    "        filtered = df.copy()\n",
    "    else:\n",
    "        filtered = df[df['Country'].isin(c_list)]\n",
    "       \n",
    "    fig = go.Figure()\n",
    "    \n",
    "    if title == '':\n",
    "        title=categories[0]\n",
    "         \n",
    "    if log:\n",
    "        fig.update_layout(yaxis_type=\"log\")\n",
    "        title = title + \" (log)\"\n",
    " \n",
    "    t_zero = pd.Timestamp(year = 2020, month = 1, day = 15,  \n",
    "                  hour = 0, minute=0, second = 0)\n",
    "    \n",
    "    new_x_length = 0\n",
    "    for country in filtered.Country.unique():\n",
    "        df = filtered.loc[filtered['Country'] == country]\n",
    "        days = df['Days'].head(1).values[0]\n",
    "        \n",
    "        # addresses case when a country didn't hit 50 threshold yet\n",
    "        if not np.isnan(days):\n",
    "            offset = pd.to_datetime(\"now\") - t_zero - pd.Timedelta(days, unit='D')\n",
    "\n",
    "            for cat in categories:\n",
    "                if len(categories) > 1:\n",
    "                    name=country+\"_\"+cat\n",
    "                else:\n",
    "                    name=country\n",
    "\n",
    "                with pd.option_context('mode.chained_assignment', None):\n",
    "                    df['Date'] = df['Date'] - offset\n",
    "                    df['Date'] = df['Date'].dt.strftime('%Y-%m-%d')\n",
    "\n",
    "                # let's figure out where t0 sits in the series are rework the x-axis based on it\n",
    "                for i,d in enumerate(df['Date']):\n",
    "                    if d == \"2020-01-15\":\n",
    "                        t0 = i\n",
    "\n",
    "                days_since_t0 = len(df['Date'])-t0        \n",
    "                new_x = list(range(0-t0, days_since_t0, 1))\n",
    "                \n",
    "                # figure out which country has most x-values since t0 as this will be range for the x-axis\n",
    "                if days_since_t0 > new_x_length:\n",
    "                    new_x_length = days_since_t0\n",
    "\n",
    "                fig.add_trace(go.Scatter(\n",
    "                                x=new_x,\n",
    "                                y=df[cat],\n",
    "                                name=name))\n",
    "    \n",
    "    fig.update_layout(title_text=title, xaxis_range=[0, new_x_length-1])\n",
    "    fig.show()\n",
    "\n",
    "    \n",
    "def print_pie(df, c_list, category):\n",
    "    last_date = df.iloc[[-1]]['Date']\n",
    "    df = df[df['Date']==last_date.values[0]]\n",
    "    df=df.sort_values(by=['Country'])\n",
    "    fig = go.Figure()\n",
    "    fig.update_layout(title_text=category)\n",
    "    fig.add_trace(go.Pie(labels=df['Country'], values=df[category]))\n",
    "    fig.show()\n",
    "\n",
    "def print_bar(df, c_list, category, log=True):\n",
    "    if c_list[0] == 'All':\n",
    "        filtered = df.copy()\n",
    "    else:\n",
    "        filtered = df[df['Country'].isin(c_list)]\n",
    " \n",
    "    last_date = filtered.iloc[[-1]]['Date']\n",
    "    filtered = filtered[filtered['Date']==last_date.values[0]]\n",
    "    filtered=filtered.sort_values(by=['Country'])\n",
    "    fig = go.Figure()    \n",
    "    title = category\n",
    "    \n",
    "    if log:\n",
    "        fig.update_layout(yaxis_type=\"log\")\n",
    "        title = title + \" (log)\"\n",
    "\n",
    "    fig.update_layout(title_text=title)\n",
    "    fig.add_trace(go.Bar(x=filtered['Country'], y=filtered[category]))\n",
    "    fig.show()\n",
    "\n",
    "def print_bars(df, c_list, categories, group_type='Country', title='Combined', days=5, log=False):\n",
    "    if c_list[0] == 'All':\n",
    "        filtered = df.copy()\n",
    "        countries = df.Country.unique()\n",
    "    else:\n",
    "        filtered = df[df['Country'].isin(c_list)]\n",
    "        countries = c_list        \n",
    "\n",
    "    results = pd.DataFrame()\n",
    "    for country in countries:  \n",
    "        df = filtered.loc[filtered['Country'] == country]\n",
    "        df = df.iloc[-days:]\n",
    "        results = pd.concat([results, df])\n",
    "        \n",
    "    results['Date'] = results['Date'].dt.strftime('%m-%d')\n",
    "\n",
    "    fig = go.Figure()\n",
    "    if log:\n",
    "        fig.update_layout(yaxis_type=\"log\")\n",
    "        title = title + \" (log)\"\n",
    "\n",
    "    fig.update_layout(title_text=title, barmode=\"stack\")\n",
    "    for cat in categories:\n",
    "        if group_type=='Country':\n",
    "            fig.add_trace(go.Bar(x=[results['Country'],results['Date']],\n",
    "                                    y=results[cat], name=cat ))\n",
    "        if group_type=='Category':\n",
    "            fig.add_trace(go.Bar(x=[[cat]*days,results['Date']],\n",
    "                                    y=results[cat], name=cat))         \n",
    "    fig.show()\n",
    "\n",
    "\n",
    "def print_table(df, c_list):\n",
    "    if c_list[0] == 'All':\n",
    "        filtered = df.copy()\n",
    "    else:\n",
    "        filtered = df[df['Country'].isin(c_list)]\n",
    "    \n",
    "    last_date = filtered.iloc[[-1]]['Date']\n",
    "    results = filtered[filtered['Date']==last_date.values[0]]\n",
    "    results=results.sort_values(by=['Confirmed'], ascending=False)\n",
    "    results=results[['Country', 'Date', 'Days', 'Confirmed', 'Confirmed_Delta', 'Confirmed_per_million', 'Confirmed_Pct', 'Deaths', 'Deaths_Delta', 'Recovered', 'Recovered_Delta']]\n",
    "    display(results)   \n",
    "    "
   ]
  },
  {
   "cell_type": "markdown",
   "metadata": {},
   "source": [
    "## Full dataset"
   ]
  },
  {
   "cell_type": "code",
   "execution_count": null,
   "metadata": {
    "ExecuteTime": {
     "end_time": "2020-03-22T15:02:51.743438Z",
     "start_time": "2020-03-22T15:02:51.676305Z"
    },
    "pycharm": {
     "is_executing": false
    },
    "scrolled": false
   },
   "outputs": [],
   "source": [
    "display(agg)"
   ]
  },
  {
   "cell_type": "markdown",
   "metadata": {},
   "source": [
    "# Graphs and tables"
   ]
  },
  {
   "cell_type": "markdown",
   "metadata": {},
   "source": [
    "## Setup countries of interest and days to eval"
   ]
  },
  {
   "cell_type": "code",
   "execution_count": null,
   "metadata": {
    "ExecuteTime": {
     "end_time": "2020-03-22T15:02:51.760599Z",
     "start_time": "2020-03-22T15:02:51.745692Z"
    },
    "cell_style": "center",
    "pycharm": {
     "is_executing": false
    },
    "scrolled": false
   },
   "outputs": [],
   "source": [
    "# c_lists are a series of lists with Countries of interest; change as appropriate\n",
    "c_list1 = ['Netherlands', 'France', 'Germany', 'Belgium', 'Norway', 'Sweden', 'Switserland', \n",
    "          'Portugal', 'US', 'United Kingdom', 'Australia', 'Bosnia and Herzegovina',\n",
    "          'Serbia', 'Italy', 'Spain', 'Korea, South']\n",
    "\n",
    "c_list2 = ['Netherlands', 'France', 'Germany', 'Belgium', 'Norway', 'Sweden', 'Finland', \n",
    "          'Portugal', 'China', 'US', 'United Kingdom', 'Australia', 'Bosnia and Herzegovina',\n",
    "          'Serbia', 'Croatia', 'Italy', 'Spain', 'Japan', 'Korea, South']\n",
    "\n",
    "c_list3 = ['Netherlands', 'France', 'Spain', 'Germany', 'Belgium', 'Italy', 'Sweden', 'UK', 'US']\n",
    "\n",
    "\n",
    "# c_lists is a dict that is used to provide a drop-down option to select different countries list\n",
    "# when displaying the figures\n",
    "c_lists = {'c_list1 - Countries of interest' : c_list1,\n",
    "           'c_list2 - w/ China' : c_list2,\n",
    "           'c_list3 - ~W-Europe+US' : c_list3,\n",
    "           'Netherlands' : ['Netherlands'],\n",
    "           'All' : ['All']\n",
    "          }\n",
    "\n",
    "# Number of days to consider; efffectively sets the x-axis for the graphs\n",
    "days=21 \n",
    "display(Markdown(f'#### Days: {days}'))\n"
   ]
  },
  {
   "cell_type": "markdown",
   "metadata": {},
   "source": [
    "# Results"
   ]
  },
  {
   "cell_type": "markdown",
   "metadata": {},
   "source": [
    "## Table - latest data all countries"
   ]
  },
  {
   "cell_type": "code",
   "execution_count": null,
   "metadata": {
    "ExecuteTime": {
     "end_time": "2020-03-22T15:02:51.796964Z",
     "start_time": "2020-03-22T15:02:51.763147Z"
    },
    "pycharm": {
     "is_executing": false
    }
   },
   "outputs": [],
   "source": [
    "print_table(agg,['All'])"
   ]
  },
  {
   "cell_type": "markdown",
   "metadata": {},
   "source": [
    "## Breakout of case-type per country"
   ]
  },
  {
   "cell_type": "markdown",
   "metadata": {},
   "source": [
    "### Confirmed"
   ]
  },
  {
   "cell_type": "code",
   "execution_count": null,
   "metadata": {
    "ExecuteTime": {
     "end_time": "2020-03-22T15:02:52.765515Z",
     "start_time": "2020-03-22T15:02:51.870289Z"
    },
    "pycharm": {
     "is_executing": false
    },
    "scrolled": false
   },
   "outputs": [],
   "source": [
    "print_pie(agg, ['All'], 'Confirmed')\n",
    "print_bar(agg, ['All'], 'Confirmed')"
   ]
  },
  {
   "cell_type": "markdown",
   "metadata": {},
   "source": [
    "### Deaths"
   ]
  },
  {
   "cell_type": "code",
   "execution_count": null,
   "metadata": {
    "ExecuteTime": {
     "end_time": "2020-03-22T15:02:53.074040Z",
     "start_time": "2020-03-22T15:02:52.767710Z"
    },
    "pycharm": {
     "is_executing": false
    }
   },
   "outputs": [],
   "source": [
    "print_pie(agg, ['All'], 'Deaths')\n",
    "print_bar(agg, ['All'], 'Deaths')"
   ]
  },
  {
   "cell_type": "markdown",
   "metadata": {},
   "source": [
    "### Recovered"
   ]
  },
  {
   "cell_type": "code",
   "execution_count": null,
   "metadata": {
    "ExecuteTime": {
     "end_time": "2020-03-22T15:02:53.465095Z",
     "start_time": "2020-03-22T15:02:53.076580Z"
    },
    "pycharm": {
     "is_executing": false
    }
   },
   "outputs": [],
   "source": [
    "print_pie(agg, ['All'], 'Recovered')\n",
    "print_bar(agg, ['All'], 'Recovered')"
   ]
  },
  {
   "cell_type": "markdown",
   "metadata": {},
   "source": [
    "## Confirmed cases"
   ]
  },
  {
   "cell_type": "markdown",
   "metadata": {},
   "source": [
    "### Confirmed - Log-scale"
   ]
  },
  {
   "cell_type": "code",
   "execution_count": null,
   "metadata": {
    "ExecuteTime": {
     "end_time": "2020-03-22T15:02:53.818758Z",
     "start_time": "2020-03-22T15:02:53.467505Z"
    },
    "pycharm": {
     "is_executing": false
    },
    "scrolled": false
   },
   "outputs": [],
   "source": [
    "def update_confirmed_log_graph(selected):\n",
    "    print_graph(agg, selected, ['Confirmed'], days=days)\n",
    "\n",
    "widgets.interact(update_confirmed_log_graph, selected=widgets.Dropdown(options=c_lists, style={'description_width': 'initial'}, description='Select country'))\n",
    "\n",
    "\n",
    "#print_graph(agg, c_list, ['Confirmed'], days=days)"
   ]
  },
  {
   "cell_type": "markdown",
   "metadata": {},
   "source": [
    "### Confirmed - Linear scale"
   ]
  },
  {
   "cell_type": "code",
   "execution_count": null,
   "metadata": {
    "ExecuteTime": {
     "end_time": "2020-03-22T15:02:54.235195Z",
     "start_time": "2020-03-22T15:02:53.820507Z"
    },
    "pycharm": {
     "is_executing": false
    }
   },
   "outputs": [],
   "source": [
    "def update_confirmed_graph(selected):\n",
    "    print_graph(agg, selected, ['Confirmed'], days=days, log=False)\n",
    "\n",
    "widgets.interact(update_confirmed_graph, selected=widgets.Dropdown(options=c_lists, style={'description_width': 'initial'}, description='Select country'))\n"
   ]
  },
  {
   "cell_type": "markdown",
   "metadata": {},
   "source": [
    "### Confirmed - daily delta"
   ]
  },
  {
   "cell_type": "code",
   "execution_count": null,
   "metadata": {
    "ExecuteTime": {
     "end_time": "2020-03-22T15:02:54.416141Z",
     "start_time": "2020-03-22T15:02:54.237567Z"
    },
    "pycharm": {
     "is_executing": false
    }
   },
   "outputs": [],
   "source": [
    "def update_confirmed_daily_delta(selected):\n",
    "    print_bar(agg, selected, 'Confirmed_Delta', log=False)\n",
    "\n",
    "widgets.interact(update_confirmed_daily_delta, selected=widgets.Dropdown(options=c_lists, style={'description_width': 'initial'}, description='Select country'))\n"
   ]
  },
  {
   "cell_type": "markdown",
   "metadata": {},
   "source": [
    "### Confirmed - daily delta graph"
   ]
  },
  {
   "cell_type": "code",
   "execution_count": null,
   "metadata": {
    "ExecuteTime": {
     "end_time": "2020-03-22T15:02:54.758184Z",
     "start_time": "2020-03-22T15:02:54.418458Z"
    },
    "pycharm": {
     "is_executing": false
    },
    "scrolled": false
   },
   "outputs": [],
   "source": [
    "def update_confirmed_daily_delta_graph(selected):\n",
    "    print_graph(agg, selected, ['Confirmed_Delta'], days=days, log=False, trendline=False)\n",
    "\n",
    "widgets.interact(update_confirmed_daily_delta_graph, selected=widgets.Dropdown(options=c_lists, style={'description_width': 'initial'}, description='Select country'))\n",
    "\n"
   ]
  },
  {
   "cell_type": "markdown",
   "metadata": {},
   "source": [
    "### Confirmed per million of population"
   ]
  },
  {
   "cell_type": "code",
   "execution_count": null,
   "metadata": {
    "ExecuteTime": {
     "end_time": "2020-03-22T15:02:55.170552Z",
     "start_time": "2020-03-22T15:02:54.761339Z"
    },
    "pycharm": {
     "is_executing": false
    }
   },
   "outputs": [],
   "source": [
    "def update_confirmed_pm_graph(selected):\n",
    "    print_graph(agg, selected, ['Confirmed_per_million'], days=days, log=False)\n",
    "\n",
    "widgets.interact(update_confirmed_pm_graph, selected=widgets.Dropdown(options=c_lists, style={'description_width': 'initial'}, description='Select country'))\n"
   ]
  },
  {
   "cell_type": "markdown",
   "metadata": {},
   "source": [
    "### 50 infections t0: confirmed cases"
   ]
  },
  {
   "cell_type": "code",
   "execution_count": null,
   "metadata": {
    "ExecuteTime": {
     "end_time": "2020-03-22T15:02:55.541887Z",
     "start_time": "2020-03-22T15:02:55.181896Z"
    },
    "pycharm": {
     "is_executing": false
    },
    "scrolled": false
   },
   "outputs": [],
   "source": [
    "def update_confirmed_t0_graph(selected):\n",
    "    print_graph_from_start(agg, selected, ['Confirmed'], days=days, log=False)\n",
    "\n",
    "widgets.interact(update_confirmed_t0_graph, selected=widgets.Dropdown(options=c_lists, style={'description_width': 'initial'}, description='Select country'))\n",
    "\n"
   ]
  },
  {
   "cell_type": "markdown",
   "metadata": {},
   "source": [
    "### 50 infections t0: Confirmed per million"
   ]
  },
  {
   "cell_type": "code",
   "execution_count": null,
   "metadata": {
    "ExecuteTime": {
     "end_time": "2020-03-22T15:02:55.980751Z",
     "start_time": "2020-03-22T15:02:55.548282Z"
    },
    "pycharm": {
     "is_executing": false
    }
   },
   "outputs": [],
   "source": [
    "def update_confirmed_t0_pm_graph(selected):\n",
    "    print_graph_from_start(agg, selected, ['Confirmed_per_million'], days=days, log=False)\n",
    "\n",
    "widgets.interact(update_confirmed_t0_pm_graph, selected=widgets.Dropdown(options=c_lists, style={'description_width': 'initial'}, description='Select country'))\n"
   ]
  },
  {
   "cell_type": "markdown",
   "metadata": {},
   "source": [
    "## Deaths"
   ]
  },
  {
   "cell_type": "code",
   "execution_count": null,
   "metadata": {
    "pycharm": {
     "is_executing": false
    }
   },
   "outputs": [],
   "source": []
  },
  {
   "cell_type": "code",
   "execution_count": null,
   "metadata": {
    "ExecuteTime": {
     "end_time": "2020-03-22T15:02:56.294082Z",
     "start_time": "2020-03-22T15:02:55.982529Z"
    },
    "pycharm": {
     "is_executing": false
    }
   },
   "outputs": [],
   "source": [
    "def update_deaths_graph(selected):\n",
    "    print_graph(agg, selected, ['Deaths'], days=days, log=False)\n",
    "\n",
    "\n",
    "widgets.interact(update_deaths_graph, selected=widgets.Dropdown(options=c_lists, style={'description_width': 'initial'}, description='Select country'))\n",
    "\n"
   ]
  },
  {
   "cell_type": "markdown",
   "metadata": {},
   "source": [
    "### Deaths - daily delta"
   ]
  },
  {
   "cell_type": "code",
   "execution_count": null,
   "metadata": {
    "ExecuteTime": {
     "end_time": "2020-03-22T15:17:06.692308Z",
     "start_time": "2020-03-22T15:17:06.517373Z"
    },
    "pycharm": {
     "is_executing": false
    }
   },
   "outputs": [],
   "source": [
    "def update_deaths_daily_delta(selected):\n",
    "    print_bar(agg, selected, 'Deaths_Delta', log=True)\n",
    "    #print_bars(agg, selected, ['Deaths_Delta'], title='Last 3 days - Deltas', days=2, log=True)\n",
    "\n",
    "widgets.interact(update_deaths_daily_delta, selected=widgets.Dropdown(options=c_lists, style={'description_width': 'initial'}, description='Select country'))\n"
   ]
  },
  {
   "cell_type": "markdown",
   "metadata": {},
   "source": [
    "### 50 infections t0: deaths"
   ]
  },
  {
   "cell_type": "code",
   "execution_count": null,
   "metadata": {
    "ExecuteTime": {
     "end_time": "2020-03-22T15:02:56.998483Z",
     "start_time": "2020-03-22T15:02:56.495880Z"
    },
    "pycharm": {
     "is_executing": false
    }
   },
   "outputs": [],
   "source": [
    "def update_deaths_t0_graph(selected):\n",
    "    print_graph_from_start(agg, selected, ['Deaths'], days=days, log=False)\n",
    "\n",
    "widgets.interact(update_deaths_t0_graph, selected=widgets.Dropdown(options=c_lists, style={'description_width': 'initial'}, description='Select country'))\n",
    "\n",
    "#print_graph_from_start(agg, c_list, ['Deaths'], days=days, log=False)\n",
    "#print_graph_from_start(agg, [\"All\"], ['Deaths'], days=days, log=False)"
   ]
  },
  {
   "cell_type": "markdown",
   "metadata": {},
   "source": [
    "### 50 infections t0: deaths per million"
   ]
  },
  {
   "cell_type": "code",
   "execution_count": null,
   "metadata": {
    "ExecuteTime": {
     "end_time": "2020-03-22T15:02:57.376042Z",
     "start_time": "2020-03-22T15:02:57.000713Z"
    },
    "pycharm": {
     "is_executing": false
    }
   },
   "outputs": [],
   "source": [
    "def update_deaths_t0_pm_graph(selected):\n",
    "    print_graph_from_start(agg, selected, ['Deaths_per_million'], days=days, log=False)\n",
    "\n",
    "widgets.interact(update_deaths_t0_pm_graph, selected=widgets.Dropdown(options=c_lists, style={'description_width': 'initial'}, description='Select country'))\n"
   ]
  },
  {
   "cell_type": "markdown",
   "metadata": {},
   "source": [
    "## Recovered"
   ]
  },
  {
   "cell_type": "code",
   "execution_count": null,
   "metadata": {
    "ExecuteTime": {
     "end_time": "2020-03-22T15:02:57.780878Z",
     "start_time": "2020-03-22T15:02:57.378022Z"
    },
    "pycharm": {
     "is_executing": false
    }
   },
   "outputs": [],
   "source": [
    "def update_recovered_graph(selected):\n",
    "    print_graph(agg, selected, ['Recovered'], days=days)\n",
    "\n",
    "widgets.interact(update_recovered_graph, selected=widgets.Dropdown(options=c_lists, style={'description_width': 'initial'}, description='Select country'))"
   ]
  },
  {
   "cell_type": "markdown",
   "metadata": {},
   "source": [
    "### 50 infections t0: recovered"
   ]
  },
  {
   "cell_type": "code",
   "execution_count": null,
   "metadata": {
    "ExecuteTime": {
     "end_time": "2020-03-22T15:02:58.191259Z",
     "start_time": "2020-03-22T15:02:57.794249Z"
    },
    "pycharm": {
     "is_executing": false
    },
    "scrolled": true
   },
   "outputs": [],
   "source": [
    "def update_recovered_t0_graph(selected):\n",
    "    print_graph_from_start(agg, selected, ['Recovered'], days=days, log=False)\n",
    "\n",
    "widgets.interact(update_recovered_t0_graph, selected=widgets.Dropdown(options=c_lists, style={'description_width': 'initial'}, description='Select country'))\n"
   ]
  },
  {
   "cell_type": "markdown",
   "metadata": {
    "ExecuteTime": {
     "end_time": "2020-03-20T10:28:50.056253Z",
     "start_time": "2020-03-20T10:28:50.053579Z"
    }
   },
   "source": [
    "### 50 infections t0: recovered per million"
   ]
  },
  {
   "cell_type": "code",
   "execution_count": null,
   "metadata": {
    "ExecuteTime": {
     "end_time": "2020-03-22T15:02:58.615254Z",
     "start_time": "2020-03-22T15:02:58.205667Z"
    },
    "pycharm": {
     "is_executing": false
    }
   },
   "outputs": [],
   "source": [
    "def update_recovered_t0_pm_graph(selected):\n",
    "    print_graph_from_start(agg, selected, ['Recovered_per_million'], days=days, log=False)\n",
    "\n",
    "widgets.interact(update_recovered_t0_pm_graph, selected=widgets.Dropdown(options=c_lists, style={'description_width': 'initial'}, description='Select country'))\n"
   ]
  },
  {
   "cell_type": "markdown",
   "metadata": {},
   "source": [
    "### Combined"
   ]
  },
  {
   "cell_type": "code",
   "execution_count": null,
   "metadata": {
    "ExecuteTime": {
     "end_time": "2020-03-22T15:02:58.812789Z",
     "start_time": "2020-03-22T15:02:58.626638Z"
    },
    "pycharm": {
     "is_executing": false
    }
   },
   "outputs": [],
   "source": [
    "c_list1=['Netherlands', 'Belgium', 'Italy', 'France', 'Spain']\n",
    "print_bars(agg, c_list1, ['Deaths', 'Recovered', 'Confirmed'], title='Last 7 days - Totals', days=7, log=True)"
   ]
  },
  {
   "cell_type": "markdown",
   "metadata": {},
   "source": [
    "### Combined delta"
   ]
  },
  {
   "cell_type": "code",
   "execution_count": null,
   "metadata": {
    "ExecuteTime": {
     "end_time": "2020-03-22T15:02:59.000994Z",
     "start_time": "2020-03-22T15:02:58.824021Z"
    },
    "pycharm": {
     "is_executing": false
    }
   },
   "outputs": [],
   "source": [
    "c_list1=['Netherlands', 'Belgium', 'Italy', 'France', 'Spain', 'US', 'United Kingdom']\n",
    "print_bars(agg, c_list1, ['Deaths_Delta', 'Recovered_Delta', 'Confirmed_Delta'], title='Last 7 days - Deltas', days=7, log=False)"
   ]
  },
  {
   "cell_type": "markdown",
   "metadata": {},
   "source": [
    "## Netherlands"
   ]
  },
  {
   "cell_type": "markdown",
   "metadata": {},
   "source": [
    "### Combined case-types"
   ]
  },
  {
   "cell_type": "code",
   "execution_count": null,
   "metadata": {
    "ExecuteTime": {
     "end_time": "2020-03-22T15:02:59.210954Z",
     "start_time": "2020-03-22T15:02:59.010426Z"
    },
    "pycharm": {
     "is_executing": false
    },
    "scrolled": false
   },
   "outputs": [],
   "source": [
    "def update_combined_graph(selected):\n",
    "    print_graph(agg, [selected], ['Confirmed', 'Deaths', 'Recovered'], days=days, log=False)\n",
    "\n",
    "widgets.interact(update_combined_graph, selected=widgets.Dropdown(options=c_list1, style={'description_width': 'initial'}, description='Select country'))\n"
   ]
  },
  {
   "cell_type": "code",
   "execution_count": null,
   "metadata": {
    "ExecuteTime": {
     "end_time": "2020-03-22T15:02:59.505156Z",
     "start_time": "2020-03-22T15:02:59.218591Z"
    },
    "pycharm": {
     "is_executing": false
    }
   },
   "outputs": [],
   "source": [
    "def update_combined_bars(selected):\n",
    "    print_bars(agg, \n",
    "           [selected], \n",
    "           ['Confirmed_Delta', 'Deaths_Delta', 'Recovered_Delta'], \n",
    "           group_type='Category', days=14, log=False)\n",
    "    \n",
    "widgets.interact(update_combined_bars, selected=widgets.Dropdown(options=c_list1, style={'description_width': 'initial'}, description='Select country'))\n",
    "\n"
   ]
  }
 ],
 "metadata": {
  "hide_input": false,
  "kernelspec": {
   "display_name": "Python 3",
   "language": "python",
   "name": "python3"
  },
  "language_info": {
   "codemirror_mode": {
    "name": "ipython",
    "version": 3
   },
   "file_extension": ".py",
   "mimetype": "text/x-python",
   "name": "python",
   "nbconvert_exporter": "python",
   "pygments_lexer": "ipython3",
   "version": "3.7.4"
  },
  "toc": {
   "base_numbering": 1,
   "nav_menu": {},
   "number_sections": true,
   "sideBar": true,
   "skip_h1_title": false,
   "title_cell": "Table of Contents",
   "title_sidebar": "Contents",
   "toc_cell": false,
   "toc_position": {
    "height": "calc(100% - 180px)",
    "left": "10px",
    "top": "150px",
    "width": "288px"
   },
   "toc_section_display": true,
   "toc_window_display": true
  },
  "varInspector": {
   "cols": {
    "lenName": 16,
    "lenType": 16,
    "lenVar": 40
   },
   "kernels_config": {
    "python": {
     "delete_cmd_postfix": "",
     "delete_cmd_prefix": "del ",
     "library": "var_list.py",
     "varRefreshCmd": "print(var_dic_list())"
    },
    "r": {
     "delete_cmd_postfix": ") ",
     "delete_cmd_prefix": "rm(",
     "library": "var_list.r",
     "varRefreshCmd": "cat(var_dic_list()) "
    }
   },
   "types_to_exclude": [
    "module",
    "function",
    "builtin_function_or_method",
    "instance",
    "_Feature"
   ],
   "window_display": false
  }
 },
 "nbformat": 4,
 "nbformat_minor": 2
}
